{
 "cells": [
  {
   "cell_type": "code",
   "execution_count": 23,
   "id": "3acb1f1f",
   "metadata": {},
   "outputs": [
    {
     "name": "stdout",
     "output_type": "stream",
     "text": [
      "(-1.0, -4.0)\n"
     ]
    }
   ],
   "source": [
    "# Task:\n",
    "# Implement the function find_roots to find the roots of the quadratic equation: ax2 + bx + c = 0. \n",
    "# The function should return a tuple containing roots in any order. \n",
    "# If the equation has only one solution, the function should return that solution as both elements of the tuple. \n",
    "# The equation will always have at least one solution.\n",
    "\n",
    "\n",
    "import math\n",
    "\n",
    "def find_roots(a, b, c):\n",
    "    if a == 0:\n",
    "        print(\"Invalid\")\n",
    "    \n",
    "    disc = b * b - 4 * a * c\n",
    "    \n",
    "    d = b * b - 4 * a * c\n",
    "    d = math.sqrt(abs(d))\n",
    "    \n",
    "    if disc > 0:\n",
    "        x1 = (-b + d) / (2 * a)\n",
    "        x2 = (-b - d) / (2 * a)\n",
    "        x = (x1, x2)\n",
    "        print (x)\n",
    "    \n",
    "    elif disc == 0:\n",
    "        x = (-b / (2 * a))\n",
    "        print (x)\n",
    "    \n",
    "    else:\n",
    "        pass\n",
    "\n",
    "find_roots(2, 10, 8)"
   ]
  },
  {
   "cell_type": "code",
   "execution_count": null,
   "id": "ff243801",
   "metadata": {},
   "outputs": [],
   "source": []
  }
 ],
 "metadata": {
  "kernelspec": {
   "display_name": "Python 3",
   "language": "python",
   "name": "python3"
  },
  "language_info": {
   "codemirror_mode": {
    "name": "ipython",
    "version": 3
   },
   "file_extension": ".py",
   "mimetype": "text/x-python",
   "name": "python",
   "nbconvert_exporter": "python",
   "pygments_lexer": "ipython3",
   "version": "3.8.8"
  }
 },
 "nbformat": 4,
 "nbformat_minor": 5
}
