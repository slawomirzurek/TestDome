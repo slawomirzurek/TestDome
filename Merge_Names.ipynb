{
 "cells": [
  {
   "cell_type": "code",
   "execution_count": null,
   "id": "fbc26b56",
   "metadata": {},
   "outputs": [],
   "source": [
    "# Task:\n",
    "# Implement the unique_names method. \n",
    "# When passed two lists of names, it will return a list containing the names that appear in either or both lists. \n",
    "# The returned list should have no duplicates.\n",
    "\n",
    "\n",
    "def unique_names(names1, names2):\n",
    "    x1 = set(names1)\n",
    "    x2 = set(names2)\n",
    "    x = list(x1.union(x2))\n",
    "    x.sort()\n",
    "    return x\n",
    "\n",
    "names1 = [\"Ava\", \"Emma\", \"Olivia\"] \n",
    "names2 = [\"Olivia\", \"Sophia\", \"Emma\"]\n",
    "\n",
    "print(unique_names(names1, names2))"
   ]
  }
 ],
 "metadata": {
  "kernelspec": {
   "display_name": "Python 3",
   "language": "python",
   "name": "python3"
  },
  "language_info": {
   "codemirror_mode": {
    "name": "ipython",
    "version": 3
   },
   "file_extension": ".py",
   "mimetype": "text/x-python",
   "name": "python",
   "nbconvert_exporter": "python",
   "pygments_lexer": "ipython3",
   "version": "3.8.8"
  }
 },
 "nbformat": 4,
 "nbformat_minor": 5
}
